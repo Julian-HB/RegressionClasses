{
 "cells": [
  {
   "cell_type": "code",
   "execution_count": 8,
   "id": "784a0202-b13c-48fb-acf6-47052dcfca31",
   "metadata": {},
   "outputs": [
    {
     "name": "stdout",
     "output_type": "stream",
     "text": [
      "[3, 5, 8, 10, 12, 15, 17]\n",
      "[2.9285714285714324, 5.285714285714288, 7.642857142857144, 10.0, 12.357142857142856, 14.714285714285712, 17.07142857142857]\n",
      "Die Funktion lautet: y = 0.5714285714285765 + 2.357142857142856*x_1\n"
     ]
    }
   ],
   "source": [
    "from Multi_Linear_Reg import Multi_Linear_Reg\n",
    "import numpy as np\n",
    "\n",
    "d_arr = [3, 4, 7, 6]\n",
    "x_arr = [[1,2,3,4,5,6,7]]\n",
    "\n",
    "\n",
    "#print(x_arr)\n",
    "y_arr = [3,5,8,10,12,15,17]\n",
    "\n",
    "print(y_arr)\n",
    "reg = Multi_Linear_Reg(x_arr, y_arr)\n",
    "reg.create_matrix()\n",
    "reg.calculate_solv_solution()\n",
    "arr = reg.calc_reg_arr()\n",
    "print(arr)\n",
    "reg.print_Funktion()"
   ]
  },
  {
   "cell_type": "code",
   "execution_count": 6,
   "id": "b4ff2d3c-7bcf-40fc-8890-b65b76a36196",
   "metadata": {},
   "outputs": [
    {
     "name": "stdout",
     "output_type": "stream",
     "text": [
      "Lineare Funktion: y = 0.80x + 1.50\n"
     ]
    }
   ],
   "source": [
    "import pandas as pd\n",
    "import numpy as np\n",
    "import sqlite3\n",
    "from sklearn.linear_model import LinearRegression\n",
    "from sklearn.model_selection import train_test_split\n",
    "from sklearn.metrics import mean_squared_error\n",
    "import matplotlib.pyplot as plt\n",
    "import os\n",
    "\n",
    "x = np.array([1, 2, 3, 4])\n",
    "y = np.array([2, 3, 5, 4])\n",
    "\n",
    "\n",
    "\n",
    "X = x.reshape(-1, 1)\n",
    "\n",
    "# Bestimmung des models.\n",
    "model = LinearRegression()\n",
    "\n",
    "# Training des Models anhand der Trainingsdaten\n",
    "model.fit(X, y)\n",
    "\n",
    "# Vorhersagen für die Trainingsdaten\n",
    "y_pred = model.predict(X)\n",
    "\n",
    "\n",
    "slope = model.coef_[0]\n",
    "intercept = model.intercept_\n",
    "\n",
    "print(f\"Lineare Funktion: y = {slope:.2f}x + {intercept:.2f}\")"
   ]
  },
  {
   "cell_type": "code",
   "execution_count": 7,
   "id": "5d726a57-bbb7-4a78-9ac3-9f514886e3c6",
   "metadata": {},
   "outputs": [
    {
     "name": "stdout",
     "output_type": "stream",
     "text": [
      "Multilineare Funktion: y = -0.07 + -0.14 * x_1 + 0.79 * x_2\n",
      "Vorhersage für Datenpunkt 1: 2.14\n",
      "Vorhersage für Datenpunkt 2: 2.79\n",
      "Vorhersage für Datenpunkt 3: 5.00\n",
      "Vorhersage für Datenpunkt 4: 4.07\n"
     ]
    }
   ],
   "source": [
    "import numpy as np\n",
    "from sklearn.linear_model import LinearRegression\n",
    "\n",
    "# Gegebene Daten\n",
    "d_arr = [3, 4, 7, 6]\n",
    "x_arr = [[1, 2, 3, 4]]\n",
    "x_arr.append(d_arr)\n",
    "y_arr = [2, 3, 5, 4]\n",
    "\n",
    "# Daten in NumPy-Arrays umwandeln\n",
    "X = np.array(x_arr).T  # Transponieren, um die richtige Form zu erhalten\n",
    "Y = np.array(y_arr)\n",
    "\n",
    "# Lineare Regression anwenden\n",
    "model = LinearRegression()\n",
    "model.fit(X, Y)\n",
    "\n",
    "# Koeffizienten der Regression erhalten\n",
    "coefficients = model.coef_\n",
    "intercept = model.intercept_\n",
    "\n",
    "# Mathematische Funktion ausgeben\n",
    "function = f\"{intercept:.2f}\"\n",
    "for i, coef in enumerate(coefficients):\n",
    "    function += f\" + {coef:.2f} * x_{i+1}\"\n",
    "\n",
    "print(f\"Multilineare Funktion: y = {function}\")\n",
    "\n",
    "# Vorhersagen\n",
    "predictions = model.predict(X)\n",
    "for i, pred in enumerate(predictions):\n",
    "    print(f\"Vorhersage für Datenpunkt {i+1}: {pred:.2f}\")\n"
   ]
  },
  {
   "cell_type": "code",
   "execution_count": null,
   "id": "54db32f9-ebb1-489c-9610-7e93e8fadd56",
   "metadata": {},
   "outputs": [],
   "source": []
  },
  {
   "cell_type": "code",
   "execution_count": null,
   "id": "cc1eed2f-7ae1-463f-8578-2c6a5a3d0e35",
   "metadata": {},
   "outputs": [],
   "source": []
  }
 ],
 "metadata": {
  "kernelspec": {
   "display_name": "Python 3 (ipykernel)",
   "language": "python",
   "name": "python3"
  },
  "language_info": {
   "codemirror_mode": {
    "name": "ipython",
    "version": 3
   },
   "file_extension": ".py",
   "mimetype": "text/x-python",
   "name": "python",
   "nbconvert_exporter": "python",
   "pygments_lexer": "ipython3",
   "version": "3.10.9"
  }
 },
 "nbformat": 4,
 "nbformat_minor": 5
}
